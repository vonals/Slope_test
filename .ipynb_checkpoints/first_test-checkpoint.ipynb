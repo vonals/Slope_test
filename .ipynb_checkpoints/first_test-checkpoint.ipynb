{
 "cells": [
  {
   "cell_type": "code",
   "execution_count": 7,
   "metadata": {},
   "outputs": [],
   "source": [
    "from tvtk.api import tvtk\n",
    "from tvtk.tools import ivtk\n",
    "from pyface.api import GUI"
   ]
  },
  {
   "cell_type": "code",
   "execution_count": 2,
   "metadata": {},
   "outputs": [
    {
     "name": "stdout",
     "output_type": "stream",
     "text": [
      "vtkCubeSource (000002AA1709CB50)\n",
      "  Debug: Off\n",
      "  Modified Time: 104\n",
      "  Reference Count: 2\n",
      "  Registered Events: \n",
      "    Registered Observers:\n",
      "      vtkObserver (000002AA2B204480)\n",
      "        Event: 33\n",
      "        EventName: ModifiedEvent\n",
      "        Command: 000002AA26EC6150\n",
      "        Priority: 0\n",
      "        Tag: 1\n",
      "  Executive: 000002AA16D49110\n",
      "  ErrorCode: No error\n",
      "  Information: 000002AA26EB36D0\n",
      "  AbortExecute: Off\n",
      "  Progress: 0\n",
      "  Progress Text: (None)\n",
      "  X Length: 1\n",
      "  Y Length: 2\n",
      "  Z Length: 3\n",
      "  Center: (0, 0, 0)\n",
      "  Output Points Precision: 0\n",
      "\n",
      "\n"
     ]
    }
   ],
   "source": [
    "s = tvtk.CubeSource(x_length = 1.0,y_length = 2.0,z_length = 3.0)\n",
    "print(s)"
   ]
  },
  {
   "cell_type": "code",
   "execution_count": 4,
   "metadata": {},
   "outputs": [],
   "source": [
    "s = tvtk.ConeSource(height = 3.0,radius = 1.0,resolution = 36)\n",
    "m = tvtk.PolyDataMapper(input_connection = s.output_port)\n",
    "a = tvtk.Actor(mapper = m)"
   ]
  },
  {
   "cell_type": "code",
   "execution_count": 10,
   "metadata": {},
   "outputs": [],
   "source": [
    "# ivtk创建Crust\n",
    "gui = GUI()\n",
    "win = ivtk.IVTKWithCrustAndBrowser()\n",
    "win.open()\n",
    "win.scene.add_actor(a)\n",
    "gui.start_event_loop()"
   ]
  },
  {
   "cell_type": "code",
   "execution_count": null,
   "metadata": {},
   "outputs": [],
   "source": [
    "# tvtk\n",
    "r = tvtk.Renderer(background = (0,0,0))\n",
    "r.add_actor(a)\n",
    "w = tvtk.RenderWindow(size = (300,300))\n",
    "w.add_renderer(r)\n",
    "i = tvtk.RenderWindowInteractor(render_window = w)\n",
    "i.initialize()\n",
    "i.start()"
   ]
  },
  {
   "cell_type": "code",
   "execution_count": 10,
   "metadata": {},
   "outputs": [],
   "source": [
    "def ivtk_scene(actors):\n",
    "    from tvtk.tools import ivtk\n",
    "    win = ivtk.IVTKWithCrustAndBrowser()\n",
    "    win.open()\n",
    "    win.scene.add_actor(actors)\n",
    "    return win"
   ]
  },
  {
   "cell_type": "code",
   "execution_count": null,
   "metadata": {},
   "outputs": [],
   "source": [
    "def event_loop():\n",
    "    from pyface.api import GUI\n",
    "    gui = GUI()\n",
    "    gui.start_event_loop()"
   ]
  }
 ],
 "metadata": {
  "kernelspec": {
   "display_name": "Python [conda env:GIS]",
   "language": "python",
   "name": "conda-env-GIS-py"
  },
  "language_info": {
   "codemirror_mode": {
    "name": "ipython",
    "version": 3
   },
   "file_extension": ".py",
   "mimetype": "text/x-python",
   "name": "python",
   "nbconvert_exporter": "python",
   "pygments_lexer": "ipython3",
   "version": "3.8.10"
  }
 },
 "nbformat": 4,
 "nbformat_minor": 4
}
