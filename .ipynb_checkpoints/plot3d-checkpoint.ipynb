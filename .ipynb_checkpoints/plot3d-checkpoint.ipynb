{
 "cells": [
  {
   "cell_type": "code",
   "execution_count": 16,
   "metadata": {},
   "outputs": [],
   "source": [
    "from tvtk.api import tvtk\n",
    "from tvtkfunc import ivtk_scene\n",
    "from tvtkfunc import event_loop"
   ]
  },
  {
   "cell_type": "code",
   "execution_count": 17,
   "metadata": {},
   "outputs": [],
   "source": [
    "def read_data():# 读入数据\n",
    "    plot3d = tvtk.MultiBlockPLOT3DReader(\n",
    "            xyz_file_name=\"plot3d_data\\combxyz.bin\",#网格文件\n",
    "            q_file_name=\"plot3d_data\\combq.bin\",#空气动力学结果文件\n",
    "            scalar_function_number=100,#设置标量数据数量\n",
    "            vector_function_number=200#设置矢量数据数量\n",
    "            )\n",
    "    plot3d.update()\n",
    "    return plot3d"
   ]
  },
  {
   "cell_type": "code",
   "execution_count": 18,
   "metadata": {},
   "outputs": [],
   "source": [
    "plot3d = read_data()\n",
    "grid = plot3d.output.get_block(0)"
   ]
  },
  {
   "cell_type": "code",
   "execution_count": 27,
   "metadata": {},
   "outputs": [],
   "source": [
    "# 显示矢量数据\n",
    "# 数据集采样.50取1\n",
    "mask = tvtk.MaskPoints(random_mode = True,on_ratio = 50)\n",
    "mask.set_input_data(grid)\n",
    "#创建箭头表示的数据集\n",
    "# glyph_source = tvtk.ArrowSource()\n",
    "#使用圆锥表示\n",
    "glyph_source = tvtk.ConeSource()\n",
    "glyph = tvtk.Glyph3D(input_connection = mask.output_port,\n",
    "                        scale_factor= 2)\n",
    "glyph.set_source_connection(glyph_source.output_port)\n",
    "m = tvtk.PolyDataMapper(scalar_range = grid.point_data.scalars.range,\n",
    "                       input_connection = glyph.output_port)"
   ]
  },
  {
   "cell_type": "code",
   "execution_count": 9,
   "metadata": {},
   "outputs": [],
   "source": [
    "# 显示静态数据\n",
    "con = tvtk.ContourFilter()# 创建等值面对象\n",
    "con.set_input_data(grid)\n",
    "con.generate_values(10,grid.point_data.scalars.range)# 指定轮廓数和数据范围\n",
    "# 设定映射器变量范围\n",
    "m = tvtk.PolyDataMapper(scalar_range = grid.point_data.scalars.range,\n",
    "                       input_connection = con.output_port)\n"
   ]
  },
  {
   "cell_type": "code",
   "execution_count": 28,
   "metadata": {},
   "outputs": [],
   "source": [
    "a = tvtk.Actor(mapper = m)\n",
    "# a.property.opacity = 0.5\n",
    "win = ivtk_scene(a)\n",
    "win.scene.isometric_view()\n",
    "event_loop()"
   ]
  },
  {
   "cell_type": "code",
   "execution_count": null,
   "metadata": {},
   "outputs": [],
   "source": []
  }
 ],
 "metadata": {
  "kernelspec": {
   "display_name": "Python [conda env:GIS]",
   "language": "python",
   "name": "conda-env-GIS-py"
  },
  "language_info": {
   "codemirror_mode": {
    "name": "ipython",
    "version": 3
   },
   "file_extension": ".py",
   "mimetype": "text/x-python",
   "name": "python",
   "nbconvert_exporter": "python",
   "pygments_lexer": "ipython3",
   "version": "3.8.10"
  }
 },
 "nbformat": 4,
 "nbformat_minor": 4
}
